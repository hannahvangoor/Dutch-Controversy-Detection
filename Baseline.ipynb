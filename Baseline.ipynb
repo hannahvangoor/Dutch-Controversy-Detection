{
 "cells": [
  {
   "cell_type": "code",
   "execution_count": 1,
   "metadata": {},
   "outputs": [
    {
     "name": "stderr",
     "output_type": "stream",
     "text": [
      "[nltk_data] Downloading package stopwords to\n",
      "[nltk_data]     /Users/Hannah/nltk_data...\n",
      "[nltk_data]   Package stopwords is already up-to-date!\n",
      "[nltk_data] Downloading package punkt to /Users/Hannah/nltk_data...\n",
      "[nltk_data]   Package punkt is already up-to-date!\n"
     ]
    }
   ],
   "source": [
    "import timeit\n",
    "import pandas as pd\n",
    "import numpy as np\n",
    "from scipy.stats import entropy\n",
    "import matplotlib.pyplot as plt\n",
    "import pandas as pd\n",
    "import seaborn as sns\n",
    "import os\n",
    "\n",
    "# Clean and tokenize text\n",
    "import nltk\n",
    "from nltk.corpus import stopwords\n",
    "from nltk.tokenize import word_tokenize\n",
    "import string\n",
    "\n",
    "nltk.download('stopwords') # download stopwords corpus\n",
    "nltk.download('punkt') # download punkt tokenizer\n",
    "\n",
    "# For linear regression\n",
    "import sklearn\n",
    "from sklearn.model_selection import train_test_split\n",
    "from sklearn.linear_model import LinearRegression\n",
    "from sklearn.metrics import mean_squared_error, mean_absolute_error, r2_score\n"
   ]
  },
  {
   "cell_type": "code",
   "execution_count": 2,
   "metadata": {},
   "outputs": [
    {
     "name": "stdout",
     "output_type": "stream",
     "text": [
      "/Users/Hannah/Documents/VU/Msc/Thesis/Coding/Pipeline\n"
     ]
    }
   ],
   "source": [
    "%cd /Users/Hannah/Documents/VU/Msc/Thesis/Coding/Pipeline"
   ]
  },
  {
   "cell_type": "code",
   "execution_count": 3,
   "metadata": {},
   "outputs": [],
   "source": [
    "def baseline(df):    \n",
    "    # Calculate average entropy per news source\n",
    "    avg_entropy_per_source = df.groupby('name')['entropy'].mean()\n",
    "    \n",
    "    # Map the average entropy to the news_source column\n",
    "    df['avg_entropy'] = df['name'].map(avg_entropy_per_source)\n",
    "\n",
    "    # Calculate the mean squared error\n",
    "    mse = mean_squared_error(df['entropy'], df['avg_entropy'])\n",
    "    print(\"Mean Squared Error:\", mse)\n",
    "    \n",
    "    # Calculate the squared errors\n",
    "    squared_errors = (df['entropy'] - df['avg_entropy']) ** 2\n",
    "\n",
    "    # Calculate the variance of the squared errors\n",
    "    variance = np.var(squared_errors)\n",
    "    print(\"Variance of Squared Errors:\", variance)\n",
    "    \n",
    "    # Calculate the STD of the squared errors\n",
    "    std = np.std(squared_errors)\n",
    "    print(\"STD of Squared Errors:\", std)"
   ]
  },
  {
   "cell_type": "code",
   "execution_count": 4,
   "metadata": {},
   "outputs": [
    {
     "name": "stdout",
     "output_type": "stream",
     "text": [
      "Mean Squared Error: 0.12612107546612727\n",
      "Variance of Squared Errors: 0.024612910636675145\n",
      "STD of Squared Errors: 0.15688502362136147\n"
     ]
    }
   ],
   "source": [
    "df = pd.read_csv('Indicator-Desc_DataNew.csv')\n",
    "baseline(df)"
   ]
  }
 ],
 "metadata": {
  "kernelspec": {
   "display_name": "modelenv",
   "language": "python",
   "name": "python3"
  },
  "language_info": {
   "codemirror_mode": {
    "name": "ipython",
    "version": 3
   },
   "file_extension": ".py",
   "mimetype": "text/x-python",
   "name": "python",
   "nbconvert_exporter": "python",
   "pygments_lexer": "ipython3",
   "version": "3.11.2"
  },
  "orig_nbformat": 4
 },
 "nbformat": 4,
 "nbformat_minor": 2
}
