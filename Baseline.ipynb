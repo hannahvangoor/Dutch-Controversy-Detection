{
 "cells": [
  {
   "cell_type": "code",
   "execution_count": null,
   "metadata": {},
   "outputs": [],
   "source": [
    "import timeit\n",
    "import pandas as pd\n",
    "import numpy as np\n",
    "from scipy.stats import entropy\n",
    "import matplotlib.pyplot as plt\n",
    "import pandas as pd\n",
    "import seaborn as sns\n",
    "import os\n",
    "\n",
    "# Clean and tokenize text\n",
    "import nltk\n",
    "from nltk.corpus import stopwords\n",
    "from nltk.tokenize import word_tokenize\n",
    "import string\n",
    "\n",
    "nltk.download('stopwords') # download stopwords corpus\n",
    "nltk.download('punkt') # download punkt tokenizer\n",
    "\n",
    "# For linear regression\n",
    "import sklearn\n",
    "from sklearn.model_selection import train_test_split\n",
    "from sklearn.linear_model import LinearRegression\n",
    "from sklearn.metrics import mean_squared_error, mean_absolute_error, r2_score\n"
   ]
  },
  {
   "cell_type": "code",
   "execution_count": null,
   "metadata": {},
   "outputs": [],
   "source": [
    "def baseline(df):    \n",
    "# Calculate average entropy per news source \n",
    "    avg_entropy_per_source = df.groupby('name')['entropy'].mean()\n",
    "    \n",
    "    # Map the average entropy to the news_source column\n",
    "    df['avg_entropy'] = df['name'].map(avg_entropy_per_source)\n",
    "\n",
    "    # Calculate the mean squared error\n",
    "    mse = mean_squared_error(df['entropy'], df['avg_entropy'])\n",
    "    print(\"Mean Squared Error:\", mse)\n",
    "    \n",
    "    # Calculate the squared errors\n",
    "    errors = df['entropy'] - df['avg_entropy']\n",
    "    squared_errors = (df['entropy'] - df['avg_entropy']) ** 2\n",
    "\n",
    "    # Calculate the variance of the squared errors\n",
    "    variance = np.var(errors)\n",
    "    print(\"Variance of Errors:\", variance)\n",
    "    \n",
    "    # Calculate the STD of the squared errors\n",
    "    std = np.std(errors)\n",
    "    print(\"STD of Errors:\", std)\n",
    "    \n",
    "    # Calculate the errors LR\n",
    "    errors = df['entropy'] - df['avg_entropy']\n",
    "\n",
    "    # Plot the distribution of errors\n",
    "    plt.figure(figsize=(8, 6))\n",
    "    plt.hist(errors, bins=20, edgecolor='black', alpha=0.75)\n",
    "    plt.xlabel('Error')\n",
    "    plt.ylabel('Frequency')\n",
    "    plt.title('Distribution of Errors in Test Set')\n",
    "    plt.show()\n",
    "    "
   ]
  },
  {
   "cell_type": "code",
   "execution_count": null,
   "metadata": {},
   "outputs": [],
   "source": [
    "# Change filename here\n",
    "df = pd.read_csv('INPUT FILE NAME')\n",
    "baseline(df)"
   ]
  },
  {
   "cell_type": "code",
   "execution_count": null,
   "metadata": {},
   "outputs": [],
   "source": []
  }
 ],
 "metadata": {
  "kernelspec": {
   "display_name": "modelenv",
   "language": "python",
   "name": "python3"
  },
  "language_info": {
   "codemirror_mode": {
    "name": "ipython",
    "version": 3
   },
   "file_extension": ".py",
   "mimetype": "text/x-python",
   "name": "python",
   "nbconvert_exporter": "python",
   "pygments_lexer": "ipython3",
   "version": "3.11.2"
  },
  "orig_nbformat": 4
 },
 "nbformat": 4,
 "nbformat_minor": 2
}
